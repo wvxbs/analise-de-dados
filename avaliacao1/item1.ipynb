{
 "cells": [
  {
   "cell_type": "code",
   "execution_count": 6,
   "metadata": {},
   "outputs": [],
   "source": [
    "import pandas as pd\n",
    "import numpy as np"
   ]
  },
  {
   "cell_type": "code",
   "execution_count": 7,
   "metadata": {},
   "outputs": [],
   "source": [
    "numeros = [73, 67, 49, 57, 16, 39, 1, 32, 52, 34, 69, 91, 26, 50, 72]"
   ]
  },
  {
   "cell_type": "code",
   "execution_count": 8,
   "metadata": {},
   "outputs": [],
   "source": [
    "def calcularMedia(numeros):\n",
    "    return sum(numeros) / len((numeros))\n",
    "\n",
    "def calcularMediana(numeros):\n",
    "    numerosOrdenados = sorted(numeros)\n",
    "    tamanhoDaLista = len(numeros)\n",
    "    meioDaLista = tamanhoDaLista // 2\n",
    "\n",
    "    if tamanhoDaLista % 2 == 0:\n",
    "        return numerosOrdenados[meioDaLista - 1] + numerosOrdenados[meioDaLista] / 2\n",
    "    \n",
    "    return numerosOrdenados[meioDaLista]\n",
    "\n",
    "def calcularVariancia(numeros, isPopulacional):\n",
    "    media = calcularMedia(numeros)\n",
    "    tamanhoDaLista = len(numeros)\n",
    "    somatoria = sum((n - media) ** 2 for n in numeros)\n",
    "\n",
    "    if isPopulacional: return somatoria / tamanhoDaLista\n",
    "\n",
    "    return somatoria / (tamanhoDaLista - 1)\n",
    "\n",
    "def calcularDesvio(numeros, isPopulacional):\n",
    "    return calcularVariancia(numeros, isPopulacional) ** 0.5\n",
    "\n",
    "def calcularCoeficienteVariacao(numeros, isPopulacional):\n",
    "    media = calcularMedia(numeros)\n",
    "    desvioPadrao = calcularDesvio(numeros, isPopulacional)\n",
    "\n",
    "    return (desvioPadrao / media) * 100\n",
    "\n",
    "def calcularQuartis(numeros):\n",
    "    numerosOrdenados = sorted(numeros)\n",
    "    tamanhoDaLista = len(numerosOrdenados)\n",
    "\n",
    "    if tamanhoDaLista % 2 == 0:\n",
    "        metade_inferior = numerosOrdenados[:tamanhoDaLista // 2]\n",
    "        Q1 = calcularMediana(metade_inferior)\n",
    "    else:\n",
    "        metade_inferior = numerosOrdenados[:tamanhoDaLista // 2]\n",
    "        Q1 = calcularMediana(metade_inferior)\n",
    "\n",
    "    Q2 = calcularMediana(numerosOrdenados)\n",
    "\n",
    "    if tamanhoDaLista % 2 == 0:\n",
    "        metade_superior = numerosOrdenados[tamanhoDaLista // 2:]\n",
    "        Q3 = calcularMediana(metade_superior)\n",
    "    else:\n",
    "        metade_superior = numerosOrdenados[(tamanhoDaLista // 2) + 1:]\n",
    "        Q3 = calcularMediana(metade_superior)\n",
    "    \n",
    "    return Q1, Q2, Q3"
   ]
  },
  {
   "cell_type": "code",
   "execution_count": 9,
   "metadata": {},
   "outputs": [],
   "source": [
    "\n",
    "def gerarEstatisticas(numeros, isManual):\n",
    "    estatisticas = {\n",
    "        'Média': calcularMedia(numeros) if isManual else np.mean(numeros),\n",
    "        'Mediana': calcularMediana(numeros) if isManual else np.median(numeros),\n",
    "        'Variância Populacional': calcularVariancia(numeros, True) if isManual else np.var(numeros),\n",
    "        'Variância Amostral' : calcularVariancia(numeros, False) if isManual else np.var(numeros, ddof=1),\n",
    "        'Desvio Padrão Populacional': calcularDesvio(numeros, True) if isManual else np.std(numeros),\n",
    "        'Desvio Padrão Amostral': calcularDesvio(numeros, False) if isManual else np.std(numeros, ddof=1),\n",
    "        'Coeficiente de Variação Populacional':  calcularCoeficienteVariacao(numeros, True) if isManual else (np.var(numeros) / np.mean(numeros)) * 100,\n",
    "        'Coeficiente de Variação Amostral':  calcularCoeficienteVariacao(numeros, False) if isManual else (np.var(numeros) / np.mean(numeros)) * 100,\n",
    "        'Quartis': calcularQuartis(numeros) if isManual else np.percentile(numeros, [25, 50, 75])       \n",
    "    }\n",
    "\n",
    "    return estatisticas"
   ]
  },
  {
   "cell_type": "code",
   "execution_count": 10,
   "metadata": {},
   "outputs": [
    {
     "name": "stdout",
     "output_type": "stream",
     "text": [
      "Utilizando as funções criadas por mim:\n",
      "{'Média': 48.53333333333333, 'Mediana': 50, 'Variância Populacional': 546.6488888888889, 'Variância Amostral': 585.6952380952381, 'Desvio Padrão Populacional': 23.380523708610312, 'Desvio Padrão Amostral': 24.201141256049024, 'Coeficiente de Variação Populacional': 48.17415599301575, 'Coeficiente de Variação Amostral': 49.86498885174937, 'Quartis': (32, 50, 69)}\n",
      "Utilizando as funções prontas:\n",
      "{'Média': np.float64(48.53333333333333), 'Mediana': np.float64(50.0), 'Variância Populacional': np.float64(546.6488888888889), 'Variância Amostral': np.float64(585.6952380952381), 'Desvio Padrão Populacional': np.float64(23.380523708610312), 'Desvio Padrão Amostral': np.float64(24.201141256049024), 'Coeficiente de Variação Populacional': np.float64(1126.3369963369964), 'Coeficiente de Variação Amostral': np.float64(1126.3369963369964), 'Quartis': array([33., 50., 68.])}\n"
     ]
    }
   ],
   "source": [
    "print(f\"Utilizando as funções criadas por mim:\\n{gerarEstatisticas(numeros, True)}\")\n",
    "print(f\"Utilizando as funções prontas:\\n{gerarEstatisticas(numeros, False)}\")"
   ]
  }
 ],
 "metadata": {
  "kernelspec": {
   "display_name": "analiseDeDados",
   "language": "python",
   "name": "python3"
  },
  "language_info": {
   "codemirror_mode": {
    "name": "ipython",
    "version": 3
   },
   "file_extension": ".py",
   "mimetype": "text/x-python",
   "name": "python",
   "nbconvert_exporter": "python",
   "pygments_lexer": "ipython3",
   "version": "3.12.5"
  }
 },
 "nbformat": 4,
 "nbformat_minor": 2
}
